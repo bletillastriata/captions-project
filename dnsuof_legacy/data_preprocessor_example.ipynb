{
  "nbformat": 4,
  "nbformat_minor": 0,
  "metadata": {
    "colab": {
      "name": "data_preprocessor_notebook.ipynb",
      "version": "0.3.2",
      "provenance": [],
      "collapsed_sections": []
    },
    "kernelspec": {
      "name": "python3",
      "display_name": "Python 3"
    }
  },
  "cells": [
    {
      "metadata": {
        "id": "c8wjCdV3KToo",
        "colab_type": "text"
      },
      "cell_type": "markdown",
      "source": [
        "First, we import the required libraries and check that the path exists. Printing the folders is an optional check that you can use to ensure the correct paths will be used."
      ]
    },
    {
      "metadata": {
        "id": "5qUsEMKlJqQM",
        "colab_type": "code",
        "colab": {
          "base_uri": "https://localhost:8080/",
          "height": 135
        },
        "outputId": "f0f827e3-5f6b-4445-ac5b-c3a902981905"
      },
      "cell_type": "code",
      "source": [
        "import os\n",
        "import matplotlib.pyplot as plt\n",
        "import numpy as np\n",
        "from imgaug import augmenters as iaa\n",
        "import cv2\n",
        "import skimage.io as skio\n",
        "from random import shuffle\n",
        "\n",
        "path = # your path here\n",
        "\n",
        "if os.path.exists(path):\n",
        "    root, folders, files = next(os.walk(path))\n",
        "print(str(folders))\n",
        "\n",
        "\n",
        "\n"
      ],
      "execution_count": 6,
      "outputs": [
        {
          "output_type": "error",
          "ename": "SyntaxError",
          "evalue": "ignored",
          "traceback": [
            "\u001b[0;36m  File \u001b[0;32m\"<ipython-input-6-432b41ebab2d>\"\u001b[0;36m, line \u001b[0;32m9\u001b[0m\n\u001b[0;31m    path = # your path here\u001b[0m\n\u001b[0m                           ^\u001b[0m\n\u001b[0;31mSyntaxError\u001b[0m\u001b[0;31m:\u001b[0m invalid syntax\n"
          ]
        }
      ]
    },
    {
      "metadata": {
        "id": "joehBr6XKrDE",
        "colab_type": "text"
      },
      "cell_type": "markdown",
      "source": [
        "Import data_preprocessor."
      ]
    },
    {
      "metadata": {
        "id": "ppmn00M_VWTQ",
        "colab_type": "code",
        "colab": {}
      },
      "cell_type": "code",
      "source": [
        "import data_preprocessor as preprocess"
      ],
      "execution_count": 0,
      "outputs": []
    },
    {
      "metadata": {
        "id": "cr2vwD8RKv7k",
        "colab_type": "text"
      },
      "cell_type": "markdown",
      "source": [
        "Define a function that creates an augmenter which performs the desired operations. Our augmenter uses a variety of techniques from adding noise, blur, dropout, affine, sharpening, and contrast normalization. Your function should return an augmenter which can then be passed to the preprocessor."
      ]
    },
    {
      "metadata": {
        "id": "nQ414bk_J-6E",
        "colab_type": "code",
        "colab": {}
      },
      "cell_type": "code",
      "source": [
        "def create_augmenter(num_augs):\n",
        "        augmenter = iaa.OneOf([\n",
        "          # Adds white noise to images\n",
        "          iaa.AdditiveGaussianNoise(scale=0.02*255),\n",
        "          \n",
        "          # Adds random values between 50 and 50 to individual pixels in images\n",
        "          iaa.AddElementwise((-50, 50)),\n",
        "            \n",
        "          # Adds Gaussian blur \n",
        "          iaa.GaussianBlur(sigma=(0.0, 3.0)),\n",
        "            \n",
        "          # Adds average blur over neighbourhoods w/ random size between 3 and 15\n",
        "          iaa.AverageBlur(k=(3,15)),\n",
        "            \n",
        "          # Adds dropout where p is between 0 and 0.2 and p% of all pixels \n",
        "          # are dropped from image\n",
        "          iaa.Dropout(p=(0,0.2)),\n",
        "            \n",
        "          # Adds coarse dropout by dropping 2% of all pixels on an image \n",
        "          # 15% of the original image's size and do this in 50% of all images\n",
        "          # channel-wise\n",
        "          iaa.CoarseDropout(0.02, size_percent=0.15,per_channel=0.5),\n",
        "\n",
        "          # Adds affine transformation by scaling images to a value of 50% to\n",
        "          # 150% of their original size\n",
        "          iaa.Affine(scale=(0.5,1.5)),\n",
        "            \n",
        "          # Adds affine transformation by translating images by -20 to 20 pixels\n",
        "          # on x and y axis independently\n",
        "          iaa.Affine(translate_px={\"x\": (-20, 20), \"y\": (-20, 20)}),\n",
        "            \n",
        "          # Adds sharpening by sharpening image and then overlaying results with\n",
        "          # original image using an alpha between 0.0 and 1.0\n",
        "          iaa.Sharpen(alpha=(0.0, 1.0), lightness=(0.75, 2.0)),\n",
        "            \n",
        "          # Adds contrast normalisation by a factor of 0.25 to 1.25\n",
        "          iaa.ContrastNormalization((0.25, 1.5))\n",
        "          ]) #, random_order=True)\n",
        "        return augmenter"
      ],
      "execution_count": 0,
      "outputs": []
    },
    {
      "metadata": {
        "id": "fzVBzbFqK-h8",
        "colab_type": "text"
      },
      "cell_type": "markdown",
      "source": [
        "For this example, we set the number of augmentations to 2. We then create an augmenter and instantiate the preprocessor class. Within the for loop, we print captions and their corresponding images. At the end of each batch, print \"End of batch\" so that batches can be easily identified during testing."
      ]
    },
    {
      "metadata": {
        "id": "eMNPwBm_KChU",
        "colab_type": "code",
        "colab": {
          "base_uri": "https://localhost:8080/",
          "height": 374
        },
        "outputId": "fe6a65e1-7649-4951-bfc8-6dae9af1a735"
      },
      "cell_type": "code",
      "source": [
        "\n",
        "num_augs = 2\n",
        "batch_size = 9\n",
        "augmenter = preprocess.create_augmenter(num_augs)\n",
        "test_1 = ImagePreprocessor(path)\n",
        "\n",
        "i = 0\n",
        "for caption_batch, img_batch in test_1.generate_data(augmenter,num_augs,batch_size):\n",
        "    for img in img_batch: \n",
        "      print(caption_batch[i])\n",
        "      plt.imshow(img)\n",
        "      plt.grid(False)\n",
        "      plt.show()\n",
        "      print(\"\\n\")\n",
        "      i += 1\n",
        "#       if(i>caption_batch.size):\n",
        "#         break\n",
        "    #plt.grid(False)\n",
        "    i = 0\n",
        "    print(\"End of batch \\n \\n\")"
      ],
      "execution_count": 5,
      "outputs": [
        {
          "output_type": "error",
          "ename": "NameError",
          "evalue": "ignored",
          "traceback": [
            "\u001b[0;31m---------------------------------------------------------------------------\u001b[0m",
            "\u001b[0;31mNameError\u001b[0m                                 Traceback (most recent call last)",
            "\u001b[0;32m<ipython-input-5-9a152ba02ff2>\u001b[0m in \u001b[0;36m<module>\u001b[0;34m()\u001b[0m\n\u001b[1;32m      2\u001b[0m \u001b[0mnum_augs\u001b[0m \u001b[0;34m=\u001b[0m \u001b[0;36m2\u001b[0m\u001b[0;34m\u001b[0m\u001b[0;34m\u001b[0m\u001b[0m\n\u001b[1;32m      3\u001b[0m \u001b[0mbatch_size\u001b[0m \u001b[0;34m=\u001b[0m \u001b[0;36m9\u001b[0m\u001b[0;34m\u001b[0m\u001b[0;34m\u001b[0m\u001b[0m\n\u001b[0;32m----> 4\u001b[0;31m \u001b[0maugmenter\u001b[0m \u001b[0;34m=\u001b[0m \u001b[0mcreate_augmenter\u001b[0m\u001b[0;34m(\u001b[0m\u001b[0mnum_augs\u001b[0m\u001b[0;34m)\u001b[0m\u001b[0;34m\u001b[0m\u001b[0;34m\u001b[0m\u001b[0m\n\u001b[0m\u001b[1;32m      5\u001b[0m \u001b[0mtest_1\u001b[0m \u001b[0;34m=\u001b[0m \u001b[0mImagePreprocessor\u001b[0m\u001b[0;34m(\u001b[0m\u001b[0mpath\u001b[0m\u001b[0;34m)\u001b[0m\u001b[0;34m\u001b[0m\u001b[0;34m\u001b[0m\u001b[0m\n\u001b[1;32m      6\u001b[0m \u001b[0;34m\u001b[0m\u001b[0m\n",
            "\u001b[0;32m<ipython-input-4-6f99620d9ce5>\u001b[0m in \u001b[0;36mcreate_augmenter\u001b[0;34m(num_augs)\u001b[0m\n\u001b[1;32m      1\u001b[0m \u001b[0;32mdef\u001b[0m \u001b[0mcreate_augmenter\u001b[0m\u001b[0;34m(\u001b[0m\u001b[0mnum_augs\u001b[0m\u001b[0;34m)\u001b[0m\u001b[0;34m:\u001b[0m\u001b[0;34m\u001b[0m\u001b[0;34m\u001b[0m\u001b[0m\n\u001b[1;32m      2\u001b[0m         \u001b[0msometimes\u001b[0m \u001b[0;34m=\u001b[0m \u001b[0;32mlambda\u001b[0m \u001b[0maug\u001b[0m\u001b[0;34m:\u001b[0m \u001b[0miaa\u001b[0m\u001b[0;34m.\u001b[0m\u001b[0mSometimes\u001b[0m\u001b[0;34m(\u001b[0m\u001b[0mnum_augs\u001b[0m\u001b[0;34m/\u001b[0m\u001b[0;34m(\u001b[0m\u001b[0mnum_augs\u001b[0m \u001b[0;34m+\u001b[0m \u001b[0;36m1\u001b[0m\u001b[0;34m)\u001b[0m\u001b[0;34m,\u001b[0m \u001b[0maug\u001b[0m\u001b[0;34m)\u001b[0m\u001b[0;34m\u001b[0m\u001b[0;34m\u001b[0m\u001b[0m\n\u001b[0;32m----> 3\u001b[0;31m         augmenter = iaa.OneOf([\n\u001b[0m\u001b[1;32m      4\u001b[0m           \u001b[0;31m# Adds white noise to images\u001b[0m\u001b[0;34m\u001b[0m\u001b[0;34m\u001b[0m\u001b[0;34m\u001b[0m\u001b[0m\n\u001b[1;32m      5\u001b[0m           \u001b[0msometimes\u001b[0m\u001b[0;34m(\u001b[0m\u001b[0miaa\u001b[0m\u001b[0;34m.\u001b[0m\u001b[0mAdditiveGaussianNoise\u001b[0m\u001b[0;34m(\u001b[0m\u001b[0mscale\u001b[0m\u001b[0;34m=\u001b[0m\u001b[0;36m0.02\u001b[0m\u001b[0;34m*\u001b[0m\u001b[0;36m255\u001b[0m\u001b[0;34m)\u001b[0m\u001b[0;34m)\u001b[0m\u001b[0;34m,\u001b[0m\u001b[0;34m\u001b[0m\u001b[0;34m\u001b[0m\u001b[0m\n",
            "\u001b[0;31mNameError\u001b[0m: name 'iaa' is not defined"
          ]
        }
      ]
    },
    {
      "metadata": {
        "id": "354hg72-Ws-I",
        "colab_type": "code",
        "colab": {}
      },
      "cell_type": "code",
      "source": [
        ""
      ],
      "execution_count": 0,
      "outputs": []
    }
  ]
}
